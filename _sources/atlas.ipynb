{
 "cells": [
  {
   "cell_type": "markdown",
   "id": "f182ef70",
   "metadata": {},
   "source": [
    "# Cardiac atlases\n",
    "\n",
    "`cardiac-geometries` also have support for downloading and converting geometries coming from atlases. Currently we only support data coming from the Bai et. al atlas which is found at https://zenodo.org/records/4506463\n",
    "\n",
    "You can use the command"
   ]
  },
  {
   "cell_type": "code",
   "execution_count": 1,
   "id": "30163746",
   "metadata": {},
   "outputs": [
    {
     "name": "stdout",
     "output_type": "stream",
     "text": [
      "                                                                                \r\n",
      " \u001b[33mUsage:\u001b[0m \u001b[1mcardiac-geometries atlas-bai\u001b[0m [\u001b[1;36mOPTIONS\u001b[0m] \u001b[1;36mN\u001b[0m                                \r\n",
      "                                                                                \r\n",
      " Create meshes from instances of https://zenodo.org/records/4506463             \r\n",
      "                                                                                \r\n",
      "\u001b[2m╭─\u001b[0m\u001b[2m Options \u001b[0m\u001b[2m───────────────────────────────────────────────────────────────────\u001b[0m\u001b[2m─╮\u001b[0m\r\n",
      "\u001b[2m│\u001b[0m \u001b[1;36m--outdir\u001b[0m         \u001b[1;32m-o\u001b[0m  \u001b[1;33mDIRECTORY\u001b[0m  Output directory, default is 'bai-atlas'     \u001b[2m│\u001b[0m\r\n",
      "\u001b[2m│\u001b[0m \u001b[1;36m--force\u001b[0m          \u001b[1;32m-f\u001b[0m  \u001b[1;33m         \u001b[0m  Force regeneration of files                  \u001b[2m│\u001b[0m\r\n",
      "\u001b[2m│\u001b[0m \u001b[1;36m--verbose\u001b[0m        \u001b[1;32m-v\u001b[0m  \u001b[1;33m         \u001b[0m  Print more information                       \u001b[2m│\u001b[0m\r\n",
      "\u001b[2m│\u001b[0m \u001b[1;36m--copy-original\u001b[0m      \u001b[1;33m         \u001b[0m  Copy original files into output directory    \u001b[2m│\u001b[0m\r\n",
      "\u001b[2m│\u001b[0m \u001b[1;36m--create-fibers\u001b[0m      \u001b[1;33m         \u001b[0m  Create fibers with LDRB algorithm            \u001b[2m│\u001b[0m\r\n",
      "\u001b[2m│\u001b[0m \u001b[1;36m--coarsening\u001b[0m     \u001b[1;32m-c\u001b[0m  \u001b[1;33m         \u001b[0m  Coarsen the mesh                             \u001b[2m│\u001b[0m\r\n",
      "\u001b[2m│\u001b[0m \u001b[1;36m--ffun\u001b[0m               \u001b[1;33m         \u001b[0m  Create facet function                        \u001b[2m│\u001b[0m\r\n",
      "\u001b[2m│\u001b[0m \u001b[1;36m--help\u001b[0m               \u001b[1;33m         \u001b[0m  Show this message and exit.                  \u001b[2m│\u001b[0m\r\n",
      "\u001b[2m╰──────────────────────────────────────────────────────────────────────────────╯\u001b[0m\r\n"
     ]
    },
    {
     "name": "stdout",
     "output_type": "stream",
     "text": [
      "\r\n"
     ]
    }
   ],
   "source": [
    "!cardiac-geometries atlas-bai --help"
   ]
  },
  {
   "cell_type": "markdown",
   "id": "2ccad0e5",
   "metadata": {},
   "source": [
    "to work with the atlas data. For example say you want to download data for instance number 4, then you can do"
   ]
  },
  {
   "cell_type": "code",
   "execution_count": 2,
   "id": "37082e46",
   "metadata": {},
   "outputs": [
    {
     "name": "stdout",
     "output_type": "stream",
     "text": [
      "Downloading https://zenodo.org/records/4506463/files/instances_001_to_010.tar.gz?download=1 to /__w/cardiac-geometries/cardiac-geometries/docs/atlas-data/instances_001_to_010.tar.gz. This may take a while.\r\n"
     ]
    },
    {
     "name": "stdout",
     "output_type": "stream",
     "text": [
      "Done downloading.\r\n",
      "Extracting...\r\n"
     ]
    },
    {
     "name": "stdout",
     "output_type": "stream",
     "text": [
      "INFO:cardiac_geometries.bai_atlas:Creating output directory: /__w/cardiac-geometries/cardiac-geometries/docs/atlas-data/instance_004\r\n",
      "INFO:cardiac_geometries.bai_atlas:Converting /__w/cardiac-geometries/cardiac-geometries/docs/atlas-data/instances_001_to_010/instance_004.vtp to dolfin xdmf\r\n"
     ]
    },
    {
     "name": "stdout",
     "output_type": "stream",
     "text": [
      "\u001b[1;33mWarning:\u001b[0m\u001b[33m Meshio cannot handle \u001b[0m\u001b[1;33m(\u001b[0m\u001b[33mtype Strips\u001b[0m\u001b[1;33m)\u001b[0m\u001b[33m but we explicitly convert them to \u001b[0m\r\n",
      "\u001b[33mtriangles here.\u001b[0m\r\n"
     ]
    },
    {
     "name": "stdout",
     "output_type": "stream",
     "text": [
      "INFO:cardiac_geometries.bai_atlas:Converting /__w/cardiac-geometries/cardiac-geometries/docs/atlas-data/instances_001_to_010/instance_004.vtu to dolfin xdmf\r\n"
     ]
    }
   ],
   "source": [
    "!cardiac-geometries atlas-bai 4 -o atlas-data"
   ]
  },
  {
   "cell_type": "markdown",
   "id": "b1b215e8",
   "metadata": {},
   "source": [
    "which will output the data in the folder `atlas-data`"
   ]
  },
  {
   "cell_type": "code",
   "execution_count": 3,
   "id": "bb9f0c0f",
   "metadata": {},
   "outputs": [
    {
     "name": "stdout",
     "output_type": "stream",
     "text": [
      "atlas-data:\r\n",
      "instance_004  instances_001_to_010  instances_001_to_010.tar.gz\r\n",
      "\r\n",
      "atlas-data/instance_004:\r\n",
      "original\r\n",
      "\r\n",
      "atlas-data/instance_004/original:\r\n",
      "mesh.h5    surface_data.h5    surface_mesh.h5\t volume_data.h5\r\n",
      "mesh.xdmf  surface_data.xdmf  surface_mesh.xdmf  volume_data.xdmf\r\n",
      "\r\n",
      "atlas-data/instances_001_to_010:\r\n",
      "instance_001.vtp  instance_003.vtu  instance_006.vtp  instance_008.vtu\r\n",
      "instance_001.vtu  instance_004.vtp  instance_006.vtu  instance_009.vtp\r\n",
      "instance_002.vtp  instance_004.vtu  instance_007.vtp  instance_009.vtu\r\n",
      "instance_002.vtu  instance_005.vtp  instance_007.vtu  instance_010.vtp\r\n",
      "instance_003.vtp  instance_005.vtu  instance_008.vtp  instance_010.vtu\r\n"
     ]
    }
   ],
   "source": [
    "!ls -R atlas-data"
   ]
  },
  {
   "cell_type": "markdown",
   "id": "2960e760",
   "metadata": {},
   "source": [
    "Now the data inside `atlas-data/instance_004/original` can be read by `dolfin`."
   ]
  }
 ],
 "metadata": {
  "jupytext": {
   "formats": "md:myst",
   "text_representation": {
    "extension": ".md",
    "format_name": "myst"
   }
  },
  "kernelspec": {
   "display_name": "Python 3",
   "language": "python",
   "name": "python3"
  },
  "language_info": {
   "codemirror_mode": {
    "name": "ipython",
    "version": 3
   },
   "file_extension": ".py",
   "mimetype": "text/x-python",
   "name": "python",
   "nbconvert_exporter": "python",
   "pygments_lexer": "ipython3",
   "version": "3.10.12"
  },
  "source_map": [
   11,
   18,
   20,
   23,
   25,
   27,
   29
  ]
 },
 "nbformat": 4,
 "nbformat_minor": 5
}